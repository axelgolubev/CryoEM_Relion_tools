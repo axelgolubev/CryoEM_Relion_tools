{
 "cells": [
  {
   "cell_type": "markdown",
   "id": "5c5314a0-2132-4e35-bf3e-a03784a2bef5",
   "metadata": {},
   "source": [
    "# Relion: Power Spectrum preparation for helixplorer\n",
    "_Adapted by Alex Golubev. CSSB, Landau Group, 2024. The notebook is based on the course materials from Leandro Estrozi."
   ]
  },
  {
   "cell_type": "markdown",
   "id": "2d6125c9-4107-40dc-ad8c-9bf505285e16",
   "metadata": {},
   "source": [
    "## To run the notebook copy it in a folder with your Relion project:\n",
    "preload the pyem module: module load relion/pyem\n",
    "\n",
    "jupyter notebook --port=$(id -u) --no-browser your_file_name.ipynb\n",
    "then copy the URL and open it in browser."
   ]
  },
  {
   "cell_type": "markdown",
   "id": "f24a3b21-4a96-4f1e-a396-eb0913a0d773",
   "metadata": {},
   "source": [
    "## Description of the pipeline\n",
    "Because we want to avoid to look at a power spectrum (PS) of 2D class-averages, which can have artifacts such as left/right asymmetry, we will calculate a sum of the PS of segments belonging to classes of interest.\n",
    "Optionally, after the sum of PS of segments belonging to different classes have been calculated, it will be possible to group and align several sums of PS to increase signal.\n",
    "\n",
    "1. First, set class and job parameters and create a star file with the segments corresponding to the class of interest:"
   ]
  },
  {
   "cell_type": "code",
   "execution_count": null,
   "id": "5b30363f-b74a-43e9-b224-01b0ea335781",
   "metadata": {},
   "outputs": [],
   "source": [
    "class_num = 10\n",
    "job_num = 'job000'"
   ]
  },
  {
   "cell_type": "code",
   "execution_count": null,
   "id": "b8568d4b-01e5-4a50-a377-eb6089d6146a",
   "metadata": {},
   "outputs": [],
   "source": [
    "!module load bsoft\n",
    "!module load relion"
   ]
  },
  {
   "cell_type": "code",
   "execution_count": null,
   "id": "444176a7-b7b2-47aa-ab96-75a4c60c7827",
   "metadata": {},
   "outputs": [],
   "source": [
    "!relion_star_handler --i Class2D/{job_num}/run_it016_data.star --o Class2D/{job_num}/run_class{class_num}.star --select rlnClassNumber --minval {class_num} --maxval {class_num}"
   ]
  },
  {
   "cell_type": "markdown",
   "id": "1d98a6df-822c-4feb-84e1-639464db1644",
   "metadata": {},
   "source": [
    "2. Then, we use the in-plane angular information present in the data.star after 2D classification in order to create a stack of aligned segments:"
   ]
  },
  {
   "cell_type": "code",
   "execution_count": null,
   "id": "083b49bc-8101-4f36-8be2-e3761f1a4a6b",
   "metadata": {},
   "outputs": [],
   "source": [
    "!relion_stack_create --i Class2D/{job_num}/run_class{class_num}.star --o Class2D/{job_num}/run_class{class_num}_stack --apply_transformation"
   ]
  },
  {
   "cell_type": "markdown",
   "id": "ac70cebe-2116-415d-8a22-31e78279b272",
   "metadata": {},
   "source": [
    "3. The segments are then padded in a larger box size for finer Fourier sampling. The size after padding depends on your initial box size, we typically use ~twice the box size in pixels. If your original segments are already very large, and a too large box size give you memory problems for next steps, restrict the padded size to the maximum you can."
   ]
  },
  {
   "cell_type": "code",
   "execution_count": null,
   "id": "31fd524b-e8fa-4e55-b805-3b814edb6f13",
   "metadata": {
    "scrolled": true
   },
   "outputs": [],
   "source": [
    "!relion_image_handler --i Class2D/{job_num}/run_class{class_num}_stack.mrcs --o Class2D/{job_num}/run_class{class_num}_stack_PAD800.mrcs --new_box 800"
   ]
  },
  {
   "cell_type": "markdown",
   "id": "429b975b-6bc3-4bb4-8c58-1d71c5a4bab1",
   "metadata": {},
   "source": [
    "4. Now, we calculate the PS (logarithm) for each aligned and padded segment using bshow software (from bsoft). \n",
    "If the next cell doesn't work, just open the bshow manualy and find your file"
   ]
  },
  {
   "cell_type": "code",
   "execution_count": null,
   "id": "d394e219-9f7a-4dc4-bd62-f6d26e07444b",
   "metadata": {},
   "outputs": [],
   "source": [
    "%%bash -s \"$job_num\" \"$class_num\"\n",
    "module load bsoft\n",
    "bshow Class2D/${1}/run_class${2}_stack_PAD800.mrcs "
   ]
  },
  {
   "cell_type": "markdown",
   "id": "07313f20-2518-498f-b701-1c23b92d1300",
   "metadata": {},
   "source": [
    "Opening the file could take some time (~1 min).\n",
    "\n",
    "Use Image => Power spectrum (ONLY use the logarithm option, none of the others). \n",
    "Calculation will take a little while depending on how many segments you have per class.  \n",
    "\n",
    "\n",
    "Use File => Save as… run_class{class}_stack_PAD800_PS.mrcs. This will create a stack of PS."
   ]
  },
  {
   "cell_type": "markdown",
   "id": "92c02323-8f38-427a-affe-69a69afe81b1",
   "metadata": {},
   "source": [
    "5. You can then simply sum the aligned PS using :"
   ]
  },
  {
   "cell_type": "code",
   "execution_count": null,
   "id": "c4eb4651-e676-41ec-9445-eaf666a2ffbc",
   "metadata": {},
   "outputs": [],
   "source": [
    "!relion_image_handler --i Class2D/{job_num}/run_class{class_num}_stack_PAD800_PS.mrcs --o Class2D/{job_num}/run_class{class_num}_stack_PAD800_PS_average.mrc --average "
   ]
  },
  {
   "cell_type": "markdown",
   "id": "ddd13797-b6c1-427a-9063-cff2d0505eac",
   "metadata": {},
   "source": [
    "6. Look at the PS average: if you see signal only in the low resolution part of the PS, you may want to create a cropped version of the PS, for easier use in helixplorer. If you do not need to crop the PS, ignore the –new_box option and use this command only to convert in .png format. If you decide to crop the PS, note the new pixel size of your final PS sum !"
   ]
  },
  {
   "cell_type": "code",
   "execution_count": null,
   "id": "91b5f488-4624-4843-95fd-413e98da0fbb",
   "metadata": {},
   "outputs": [],
   "source": [
    "!relion_image_handler --i Class2D/{job_num}/run_class{class_num}_stack_PAD800_PS_average.mrc --o Class2D/{job_num}/run_class{class_num}_stack_PAD800_PS_average_crop.png --new_box 400"
   ]
  }
 ],
 "metadata": {
  "kernelspec": {
   "display_name": "Python 3 (ipykernel)",
   "language": "python",
   "name": "python3"
  },
  "language_info": {
   "codemirror_mode": {
    "name": "ipython",
    "version": 3
   },
   "file_extension": ".py",
   "mimetype": "text/x-python",
   "name": "python",
   "nbconvert_exporter": "python",
   "pygments_lexer": "ipython3",
   "version": "3.11.6"
  }
 },
 "nbformat": 4,
 "nbformat_minor": 5
}
